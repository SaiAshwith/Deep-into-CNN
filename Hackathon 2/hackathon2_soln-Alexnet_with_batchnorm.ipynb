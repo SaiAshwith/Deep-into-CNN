{
 "cells": [
  {
   "cell_type": "code",
   "execution_count": 1,
   "id": "1f36b61b",
   "metadata": {},
   "outputs": [
    {
     "name": "stdout",
     "output_type": "stream",
     "text": [
      "env: CUDA_LAUNCH_BLOCKING=1\n"
     ]
    }
   ],
   "source": [
    "%env CUDA_LAUNCH_BLOCKING = 1"
   ]
  },
  {
   "cell_type": "code",
   "execution_count": 2,
   "id": "4649540e",
   "metadata": {},
   "outputs": [
    {
     "name": "stdout",
     "output_type": "stream",
     "text": [
      "1\n"
     ]
    }
   ],
   "source": [
    "a = int(input())"
   ]
  },
  {
   "cell_type": "code",
   "execution_count": 2,
   "id": "f0993ab9",
   "metadata": {},
   "outputs": [],
   "source": [
    "import os\n",
    "import pandas as pd"
   ]
  },
  {
   "cell_type": "code",
   "execution_count": 3,
   "id": "96846176",
   "metadata": {},
   "outputs": [],
   "source": [
    "data = pd.read_csv('birds_rev2/birds.csv')"
   ]
  },
  {
   "cell_type": "code",
   "execution_count": 4,
   "id": "01dc5600",
   "metadata": {},
   "outputs": [],
   "source": [
    "#data.head()"
   ]
  },
  {
   "cell_type": "code",
   "execution_count": 4,
   "id": "929062fd",
   "metadata": {},
   "outputs": [
    {
     "data": {
      "text/plain": [
       "((42114, 3), (39364, 3))"
      ]
     },
     "execution_count": 4,
     "metadata": {},
     "output_type": "execute_result"
    }
   ],
   "source": [
    "data.shape, data[data['data set']=='train'].shape"
   ]
  },
  {
   "cell_type": "code",
   "execution_count": 5,
   "id": "c1f9cdd4",
   "metadata": {},
   "outputs": [
    {
     "data": {
      "text/plain": [
       "(filepaths    valid/AFRICAN CROWNED CRANE/1.jpg\n",
       " labels                   AFRICAN CROWNED CRANE\n",
       " Name: 40739, dtype: object,\n",
       " (39364, 2))"
      ]
     },
     "execution_count": 5,
     "metadata": {},
     "output_type": "execute_result"
    }
   ],
   "source": [
    "train_data = data[data['data set']=='train'][['filepaths', 'labels']]\n",
    "valid_data = data[data['data set']=='valid'][['filepaths', 'labels']]\n",
    "test_data = data[data['data set']=='test'][['filepaths', 'labels']]\n",
    "valid_data.iloc[0], train_data.shape"
   ]
  },
  {
   "cell_type": "code",
   "execution_count": 6,
   "id": "2d87f770",
   "metadata": {},
   "outputs": [
    {
     "data": {
      "text/plain": [
       "((39364, 2), (1375, 2), (1375, 2), 'valid/AFRICAN CROWNED CRANE/1.jpg')"
      ]
     },
     "execution_count": 6,
     "metadata": {},
     "output_type": "execute_result"
    }
   ],
   "source": [
    "train_data.shape, valid_data.shape, test_data.shape, valid_data.iloc[0][0]"
   ]
  },
  {
   "cell_type": "code",
   "execution_count": 7,
   "id": "6717e245",
   "metadata": {},
   "outputs": [],
   "source": [
    "import torch"
   ]
  },
  {
   "cell_type": "code",
   "execution_count": 8,
   "id": "ee8d913f",
   "metadata": {},
   "outputs": [],
   "source": [
    "from torch.utils.data import DataLoader, Dataset\n",
    "import matplotlib.pyplot as plt\n",
    "import numpy as np\n",
    "\n",
    "class mydataset(Dataset):\n",
    "    def __init__(self, datafr, path, class_dict, transform = None):\n",
    "        self.datafr = datafr\n",
    "        self.path = path\n",
    "        self.transform = transform\n",
    "        self.class_dict = class_dict\n",
    "    def __len__(self):\n",
    "        return self.datafr.shape[0]\n",
    "    def __getitem__(self, idx):\n",
    "        if torch.is_tensor(idx):\n",
    "            idx = idx.tolist()\n",
    "        \n",
    "        img_path = os.path.join(self.path, self.datafr.iloc[idx][0])\n",
    "        img = plt.imread(img_path)\n",
    "        label = self.class_dict[self.datafr.iloc[idx][1]]\n",
    "        \n",
    "        if self.transform :\n",
    "            img = self.transform(img)\n",
    "        return img, label"
   ]
  },
  {
   "cell_type": "code",
   "execution_count": 9,
   "id": "fcb56eae",
   "metadata": {},
   "outputs": [],
   "source": [
    "class_names = pd.read_csv('birds_rev2/class_dict.csv')\n",
    "#class_names[272:277]"
   ]
  },
  {
   "cell_type": "code",
   "execution_count": 10,
   "id": "46046acd",
   "metadata": {},
   "outputs": [],
   "source": [
    "class_dict = {}\n",
    "for i in range(275):\n",
    "    class_dict[class_names.loc[i][1]] = i\n",
    "#class_dict"
   ]
  },
  {
   "cell_type": "code",
   "execution_count": 11,
   "id": "debcc2fe",
   "metadata": {},
   "outputs": [],
   "source": [
    "import torchvision.transforms as transforms\n",
    "train_dataset = mydataset(datafr = train_data, path = 'birds_rev2/', class_dict = class_dict, transform = transforms.Compose([transforms.ToTensor(),transforms.RandomResizedCrop(227, scale = (0.8, 0.8), ratio = (1, 1))]))"
   ]
  },
  {
   "cell_type": "code",
   "execution_count": 13,
   "id": "5b1c1adf",
   "metadata": {},
   "outputs": [
    {
     "name": "stderr",
     "output_type": "stream",
     "text": [
      "C:\\Users\\saias\\anaconda3\\envs\\pytor\\lib\\site-packages\\torchvision\\transforms\\functional.py:114: UserWarning: The given NumPy array is not writeable, and PyTorch does not support non-writeable tensors. This means you can write to the underlying (supposedly non-writeable) NumPy array using the tensor. You may want to copy the array to protect its data or make it writeable before converting it to a tensor. This type of warning will be suppressed for the rest of this program. (Triggered internally at  ..\\torch\\csrc\\utils\\tensor_numpy.cpp:180.)\n",
      "  img = torch.from_numpy(pic.transpose((2, 0, 1))).contiguous()\n"
     ]
    },
    {
     "data": {
      "text/plain": [
       "torch.Size([3, 227, 227])"
      ]
     },
     "execution_count": 13,
     "metadata": {},
     "output_type": "execute_result"
    }
   ],
   "source": [
    "train_dataset[0][0].cuda().shape"
   ]
  },
  {
   "cell_type": "code",
   "execution_count": 12,
   "id": "a813d748",
   "metadata": {},
   "outputs": [
    {
     "name": "stderr",
     "output_type": "stream",
     "text": [
      "C:\\Users\\saias\\anaconda3\\envs\\pytor\\lib\\site-packages\\torchvision\\transforms\\functional.py:114: UserWarning: The given NumPy array is not writeable, and PyTorch does not support non-writeable tensors. This means you can write to the underlying (supposedly non-writeable) NumPy array using the tensor. You may want to copy the array to protect its data or make it writeable before converting it to a tensor. This type of warning will be suppressed for the rest of this program. (Triggered internally at  ..\\torch\\csrc\\utils\\tensor_numpy.cpp:180.)\n",
      "  img = torch.from_numpy(pic.transpose((2, 0, 1))).contiguous()\n"
     ]
    },
    {
     "data": {
      "text/plain": [
       "<matplotlib.image.AxesImage at 0x238a5d06ac0>"
      ]
     },
     "execution_count": 12,
     "metadata": {},
     "output_type": "execute_result"
    },
    {
     "data": {
      "image/png": "[encoded data removed]",
      "text/plain": [
       "<Figure size 432x288 with 1 Axes>"
      ]
     },
     "metadata": {
      "needs_background": "light"
     },
     "output_type": "display_data"
    }
   ],
   "source": [
    "plt.imshow((train_dataset[0][0][2]))"
   ]
  },
  {
   "cell_type": "code",
   "execution_count": 13,
   "id": "a7b78c36",
   "metadata": {},
   "outputs": [],
   "source": [
    "valid_dataset = mydataset(datafr = valid_data, path = 'birds_rev2/', class_dict = class_dict, transform = transforms.Compose([transforms.ToTensor(),transforms.RandomResizedCrop(227, scale = (0.8, 0.8), ratio = (1, 1))]))"
   ]
  },
  {
   "cell_type": "code",
   "execution_count": 14,
   "id": "0bbbdb09",
   "metadata": {},
   "outputs": [],
   "source": [
    "test_dataset = mydataset(datafr = test_data, path = 'birds_rev2/', class_dict = class_dict, transform = transforms.Compose([transforms.ToTensor(),transforms.RandomResizedCrop(227, scale = (0.8, 0.8), ratio = (1, 1))]))"
   ]
  },
  {
   "cell_type": "code",
   "execution_count": 15,
   "id": "55286df9",
   "metadata": {},
   "outputs": [
    {
     "data": {
      "text/plain": [
       "torch.Size([3, 227, 227])"
      ]
     },
     "execution_count": 15,
     "metadata": {},
     "output_type": "execute_result"
    }
   ],
   "source": [
    "valid_dataset[0][0].shape"
   ]
  },
  {
   "cell_type": "code",
   "execution_count": 16,
   "id": "c0b9987f",
   "metadata": {},
   "outputs": [
    {
     "data": {
      "text/plain": [
       "<matplotlib.image.AxesImage at 0x238a5db0910>"
      ]
     },
     "execution_count": 16,
     "metadata": {},
     "output_type": "execute_result"
    },
    {
     "data": {
      "image/png": "[encoded data removed]",
      "text/plain": [
       "<Figure size 432x288 with 1 Axes>"
      ]
     },
     "metadata": {
      "needs_background": "light"
     },
     "output_type": "display_data"
    }
   ],
   "source": [
    "plt.imshow(test_dataset[0][0][0])"
   ]
  },
  {
   "cell_type": "code",
   "execution_count": 20,
   "id": "d081135a",
   "metadata": {},
   "outputs": [],
   "source": [
    "train_loader = DataLoader(train_dataset, batch_size = 15, shuffle = True)\n",
    "valid_loader = DataLoader(valid_dataset, batch_size = 15, shuffle = True)\n",
    "test_loader = DataLoader(test_dataset, batch_size = 15, shuffle = True)"
   ]
  },
  {
   "cell_type": "code",
   "execution_count": 21,
   "id": "80e098dc",
   "metadata": {},
   "outputs": [
    {
     "data": {
      "text/plain": [
       "15"
      ]
     },
     "execution_count": 21,
     "metadata": {},
     "output_type": "execute_result"
    }
   ],
   "source": [
    "a = iter(train_loader)\n",
    "next(a)[0].shape[0]"
   ]
  },
  {
   "cell_type": "code",
   "execution_count": 22,
   "id": "7620a6d6",
   "metadata": {},
   "outputs": [
    {
     "data": {
      "text/plain": [
       "(torch.Size([15]), torch.Size([15, 3, 227, 227]))"
      ]
     },
     "execution_count": 22,
     "metadata": {},
     "output_type": "execute_result"
    }
   ],
   "source": [
    "import numpy as np\n",
    "next(a)[1].shape, next(a)[0].shape"
   ]
  },
  {
   "cell_type": "code",
   "execution_count": 17,
   "id": "22651416",
   "metadata": {
    "scrolled": true
   },
   "outputs": [],
   "source": [
    "rev_dict = {}\n",
    "for i in class_dict:\n",
    "    rev_dict[class_dict[i]] = i\n",
    "#rev_dict"
   ]
  },
  {
   "cell_type": "code",
   "execution_count": 18,
   "id": "d996e240",
   "metadata": {},
   "outputs": [],
   "source": [
    "from torch.nn import Module\n",
    "import torch.nn.functional as F\n",
    "import torch.nn as nn"
   ]
  },
  {
   "cell_type": "code",
   "execution_count": 19,
   "id": "2860f75b",
   "metadata": {},
   "outputs": [],
   "source": [
    "class net(Module):\n",
    "    def __init__(self):\n",
    "        super().__init__()\n",
    "        self.conv1 = nn.Conv2d(3, 96, kernel_size=11, stride=4, padding=1)\n",
    "        self.bn1 = nn.BatchNorm2d(96)\n",
    "        self.conv2 = nn.Conv2d(96, 256, kernel_size=5, stride=1, padding=2, groups=2)\n",
    "        self.bn2 = nn.BatchNorm2d(256)\n",
    "        self.conv3 = nn.Conv2d(256, 384, kernel_size=3, stride=1, padding=1)\n",
    "        self.bn3 = nn.BatchNorm2d(384)\n",
    "        self.conv4 = nn.Conv2d(384, 384, kernel_size=3, stride=1, padding=1, groups=2)\n",
    "        self.bn4 = nn.BatchNorm2d(384)\n",
    "        self.conv5 = nn.Conv2d(384, 256, kernel_size=3, stride=1, padding=1, groups=2)\n",
    "        self.bn5 = nn.BatchNorm2d(256)\n",
    "        self.pool = nn.MaxPool2d(kernel_size=3, stride=2)\n",
    "        self.fc1 = nn.Linear(256*6*6, 6200)\n",
    "        self.bn6 = nn.BatchNorm1d(6200)\n",
    "        self.fc2 = nn.Linear(6200, 3200)\n",
    "        self.bn7 = nn.BatchNorm1d(3200)\n",
    "        self.fc3 = nn.Linear(3200, 275)\n",
    "    def forward(self, x):\n",
    "        x = self.pool(F.leaky_relu(self.bn1(self.conv1(x))))\n",
    "        x = self.pool(F.leaky_relu(self.bn2(self.conv2(x))))\n",
    "        x = F.leaky_relu(self.bn3(self.conv3(x)))\n",
    "        x = F.leaky_relu(self.bn4(self.conv4(x)))\n",
    "        x = self.pool(F.leaky_relu(self.bn5(self.conv5(x))))\n",
    "        x = F.leaky_relu(self.bn6(self.fc1(torch.flatten(x, start_dim = 1))))\n",
    "        x = F.leaky_relu(self.bn7(self.fc2(x)))\n",
    "        x = self.fc3(x)\n",
    "        return x"
   ]
  },
  {
   "cell_type": "code",
   "execution_count": 20,
   "id": "775e06eb",
   "metadata": {},
   "outputs": [
    {
     "name": "stdout",
     "output_type": "stream",
     "text": [
      "<bound method Module.parameters of net(\n",
      "  (conv1): Conv2d(3, 96, kernel_size=(11, 11), stride=(4, 4), padding=(1, 1))\n",
      "  (bn1): BatchNorm2d(96, eps=1e-05, momentum=0.1, affine=True, track_running_stats=True)\n",
      "  (conv2): Conv2d(96, 256, kernel_size=(5, 5), stride=(1, 1), padding=(2, 2), groups=2)\n",
      "  (bn2): BatchNorm2d(256, eps=1e-05, momentum=0.1, affine=True, track_running_stats=True)\n",
      "  (conv3): Conv2d(256, 384, kernel_size=(3, 3), stride=(1, 1), padding=(1, 1))\n",
      "  (bn3): BatchNorm2d(384, eps=1e-05, momentum=0.1, affine=True, track_running_stats=True)\n",
      "  (conv4): Conv2d(384, 384, kernel_size=(3, 3), stride=(1, 1), padding=(1, 1), groups=2)\n",
      "  (bn4): BatchNorm2d(384, eps=1e-05, momentum=0.1, affine=True, track_running_stats=True)\n",
      "  (conv5): Conv2d(384, 256, kernel_size=(3, 3), stride=(1, 1), padding=(1, 1), groups=2)\n",
      "  (bn5): BatchNorm2d(256, eps=1e-05, momentum=0.1, affine=True, track_running_stats=True)\n",
      "  (pool): MaxPool2d(kernel_size=3, stride=2, padding=0, dilation=1, ceil_mode=False)\n",
      "  (fc1): Linear(in_features=9216, out_features=6200, bias=True)\n",
      "  (bn6): BatchNorm1d(6200, eps=1e-05, momentum=0.1, affine=True, track_running_stats=True)\n",
      "  (fc2): Linear(in_features=6200, out_features=3200, bias=True)\n",
      "  (bn7): BatchNorm1d(3200, eps=1e-05, momentum=0.1, affine=True, track_running_stats=True)\n",
      "  (fc3): Linear(in_features=3200, out_features=275, bias=True)\n",
      ")>\n",
      "torch.Size([96, 3, 11, 11])\n",
      "torch.Size([96])\n",
      "torch.Size([96])\n",
      "torch.Size([96])\n",
      "torch.Size([256, 48, 5, 5])\n",
      "torch.Size([256])\n",
      "torch.Size([256])\n",
      "torch.Size([256])\n",
      "torch.Size([384, 256, 3, 3])\n",
      "torch.Size([384])\n",
      "torch.Size([384])\n",
      "torch.Size([384])\n",
      "torch.Size([384, 192, 3, 3])\n",
      "torch.Size([384])\n",
      "torch.Size([384])\n",
      "torch.Size([384])\n",
      "torch.Size([256, 192, 3, 3])\n",
      "torch.Size([256])\n",
      "torch.Size([256])\n",
      "torch.Size([256])\n",
      "torch.Size([6200, 9216])\n",
      "torch.Size([6200])\n",
      "torch.Size([6200])\n",
      "torch.Size([6200])\n",
      "torch.Size([3200, 6200])\n",
      "torch.Size([3200])\n",
      "torch.Size([3200])\n",
      "torch.Size([3200])\n",
      "torch.Size([275, 3200])\n",
      "torch.Size([275])\n"
     ]
    }
   ],
   "source": [
    "model = net()\n",
    "model.load_state_dict(torch.load('./model6.pt'))\n",
    "model.to(torch.device('cuda:0'))\n",
    "print(model.parameters)\n",
    "for i in model.parameters():\n",
    "    print(i.shape)"
   ]
  },
  {
   "cell_type": "code",
   "execution_count": 28,
   "id": "85c135ad",
   "metadata": {},
   "outputs": [
    {
     "name": "stderr",
     "output_type": "stream",
     "text": [
      "C:\\Users\\saias\\anaconda3\\envs\\pytor\\lib\\site-packages\\torch\\nn\\functional.py:718: UserWarning: Named tensors and all their associated APIs are an experimental feature and subject to change. Please do not use them for anything important until they are released as stable. (Triggered internally at  ..\\c10/core/TensorImpl.h:1156.)\n",
      "  return torch.max_pool2d(input, kernel_size, stride, padding, dilation, ceil_mode)\n"
     ]
    },
    {
     "data": {
      "text/plain": [
       "tensor([[-15.5247, -12.8802, -21.1896,  ...,  -4.6496,  -7.4205,  -6.5699],\n",
       "        [-17.3953, -20.4323, -24.0924,  ..., -13.0954, -10.8019, -13.6174],\n",
       "        [ -1.6431,  -5.3780, -12.2530,  ...,  -5.4353,  -3.8628,  -9.9248],\n",
       "        ...,\n",
       "        [-11.6189, -31.4336, -21.6611,  ..., -24.0149, -15.6562, -22.2395],\n",
       "        [ -3.4149,  -5.2650,  -4.2884,  ..., -13.0819, -10.8694,  -8.9488],\n",
       "        [ -4.9811,  -6.7469,  -8.8068,  ...,  -6.5764,  -5.1172,  -4.0840]],\n",
       "       device='cuda:0', grad_fn=<AddmmBackward>)"
      ]
     },
     "execution_count": 28,
     "metadata": {},
     "output_type": "execute_result"
    }
   ],
   "source": [
    "model(next(iter(train_loader))[0].to(torch.device('cuda:0')))"
   ]
  },
  {
   "cell_type": "code",
   "execution_count": 29,
   "id": "ceb21d07",
   "metadata": {},
   "outputs": [
    {
     "data": {
      "text/plain": [
       "tensor([[[[0.5569, 0.5569, 0.5569,  ..., 0.4489, 0.5070, 0.5843],\n",
       "          [0.5569, 0.5569, 0.5569,  ..., 0.4293, 0.4767, 0.5779],\n",
       "          [0.5569, 0.5569, 0.5569,  ..., 0.4307, 0.4386, 0.5517],\n",
       "          ...,\n",
       "          [0.6812, 0.6812, 0.6820,  ..., 0.4398, 0.4630, 0.5038],\n",
       "          [0.6770, 0.6776, 0.6810,  ..., 0.4429, 0.4469, 0.4480],\n",
       "          [0.6706, 0.6738, 0.6800,  ..., 0.4545, 0.4641, 0.4706]],\n",
       "\n",
       "         [[0.5725, 0.5725, 0.5725,  ..., 0.4645, 0.5227, 0.6000],\n",
       "          [0.5725, 0.5725, 0.5725,  ..., 0.4450, 0.4924, 0.5936],\n",
       "          [0.5725, 0.5725, 0.5725,  ..., 0.4464, 0.4552, 0.5729],\n",
       "          ...,\n",
       "          [0.6969, 0.6969, 0.6977,  ..., 0.4398, 0.4644, 0.5116],\n",
       "          [0.6927, 0.6933, 0.6967,  ..., 0.4429, 0.4483, 0.4559],\n",
       "          [0.6863, 0.6895, 0.6957,  ..., 0.4545, 0.4655, 0.4784]],\n",
       "\n",
       "         [[0.6157, 0.6157, 0.6157,  ..., 0.5077, 0.5665, 0.6471],\n",
       "          [0.6157, 0.6157, 0.6157,  ..., 0.4891, 0.5389, 0.6406],\n",
       "          [0.6157, 0.6157, 0.6157,  ..., 0.4907, 0.5023, 0.6199],\n",
       "          ...,\n",
       "          [0.7428, 0.7428, 0.7436,  ..., 0.4868, 0.5115, 0.5587],\n",
       "          [0.7359, 0.7364, 0.7398,  ..., 0.4900, 0.4953, 0.5029],\n",
       "          [0.7294, 0.7326, 0.7388,  ..., 0.5015, 0.5126, 0.5255]]],\n",
       "\n",
       "\n",
       "        [[[0.3020, 0.2987, 0.3036,  ..., 0.6306, 0.6175, 0.6078],\n",
       "          [0.2955, 0.2923, 0.2948,  ..., 0.5530, 0.5472, 0.5402],\n",
       "          [0.2914, 0.2904, 0.2891,  ..., 0.4598, 0.4585, 0.4566],\n",
       "          ...,\n",
       "          [0.3368, 0.3346, 0.3313,  ..., 0.0687, 0.0690, 0.0745],\n",
       "          [0.3458, 0.3469, 0.3449,  ..., 0.0733, 0.0712, 0.0738],\n",
       "          [0.3490, 0.3555, 0.3569,  ..., 0.0733, 0.0706, 0.0706]],\n",
       "\n",
       "         [[0.2824, 0.2824, 0.2879,  ..., 0.5993, 0.5861, 0.5765],\n",
       "          [0.2759, 0.2759, 0.2792,  ..., 0.5216, 0.5158, 0.5088],\n",
       "          [0.2718, 0.2740, 0.2734,  ..., 0.4394, 0.4382, 0.4363],\n",
       "          ...,\n",
       "          [0.4254, 0.4277, 0.4312,  ..., 0.0698, 0.0729, 0.0784],\n",
       "          [0.4399, 0.4411, 0.4391,  ..., 0.0743, 0.0745, 0.0777],\n",
       "          [0.4431, 0.4496, 0.4510,  ..., 0.0733, 0.0713, 0.0745]],\n",
       "\n",
       "         [[0.2706, 0.2706, 0.2816,  ..., 0.5875, 0.5744, 0.5647],\n",
       "          [0.2641, 0.2694, 0.2748,  ..., 0.5098, 0.5041, 0.4970],\n",
       "          [0.2600, 0.2687, 0.2733,  ..., 0.4293, 0.4319, 0.4300],\n",
       "          ...,\n",
       "          [0.4674, 0.4674, 0.4724,  ..., 0.0760, 0.0808, 0.0863],\n",
       "          [0.4791, 0.4803, 0.4783,  ..., 0.0762, 0.0812, 0.0856],\n",
       "          [0.4824, 0.4888, 0.4902,  ..., 0.0733, 0.0727, 0.0824]]],\n",
       "\n",
       "\n",
       "        [[[0.7373, 0.7373, 0.7400,  ..., 0.7333, 0.7333, 0.7333],\n",
       "          [0.7179, 0.7206, 0.7262,  ..., 0.7269, 0.7269, 0.7269],\n",
       "          [0.7192, 0.7179, 0.7232,  ..., 0.7219, 0.7195, 0.7172],\n",
       "          ...,\n",
       "          [0.3348, 0.3298, 0.3124,  ..., 0.3469, 0.3446, 0.3475],\n",
       "          [0.3625, 0.3377, 0.3266,  ..., 0.3574, 0.3399, 0.3241],\n",
       "          [0.3882, 0.3979, 0.3807,  ..., 0.3557, 0.3466, 0.3176]],\n",
       "\n",
       "         [[0.6627, 0.6627, 0.6600,  ..., 0.6706, 0.6706, 0.6706],\n",
       "          [0.6499, 0.6525, 0.6503,  ..., 0.6641, 0.6641, 0.6641],\n",
       "          [0.6498, 0.6485, 0.6513,  ..., 0.6592, 0.6567, 0.6545],\n",
       "          ...,\n",
       "          [0.4760, 0.4709, 0.4535,  ..., 0.4622, 0.4599, 0.4628],\n",
       "          [0.5036, 0.4789, 0.4678,  ..., 0.4671, 0.4511, 0.4353],\n",
       "          [0.5294, 0.5391, 0.5219,  ..., 0.4651, 0.4643, 0.4353]],\n",
       "\n",
       "         [[0.5451, 0.5451, 0.5396,  ..., 0.5725, 0.5725, 0.5725],\n",
       "          [0.5387, 0.5413, 0.5409,  ..., 0.5661, 0.5661, 0.5661],\n",
       "          [0.5510, 0.5497, 0.5533,  ..., 0.5628, 0.5642, 0.5620],\n",
       "          ...,\n",
       "          [0.4289, 0.4239, 0.4065,  ..., 0.4207, 0.4183, 0.4213],\n",
       "          [0.4566, 0.4318, 0.4208,  ..., 0.4219, 0.4054, 0.3896],\n",
       "          [0.4824, 0.4920, 0.4748,  ..., 0.4286, 0.4251, 0.3961]]],\n",
       "\n",
       "\n",
       "        ...,\n",
       "\n",
       "\n",
       "        [[[0.4235, 0.4203, 0.4113,  ..., 0.4466, 0.4577, 0.4706],\n",
       "          [0.4976, 0.4600, 0.4141,  ..., 0.4379, 0.4518, 0.4674],\n",
       "          [0.5578, 0.5421, 0.5101,  ..., 0.4305, 0.4446, 0.4584],\n",
       "          ...,\n",
       "          [0.3425, 0.3432, 0.3402,  ..., 0.4808, 0.4849, 0.4914],\n",
       "          [0.4063, 0.3737, 0.3413,  ..., 0.4842, 0.4881, 0.4934],\n",
       "          [0.3451, 0.3258, 0.3188,  ..., 0.4874, 0.4902, 0.4902]],\n",
       "\n",
       "         [[0.6627, 0.6595, 0.6506,  ..., 0.7682, 0.7793, 0.7922],\n",
       "          [0.7175, 0.6799, 0.6408,  ..., 0.7595, 0.7734, 0.7889],\n",
       "          [0.7625, 0.7468, 0.7231,  ..., 0.7521, 0.7661, 0.7800],\n",
       "          ...,\n",
       "          [0.5683, 0.5691, 0.5685,  ..., 0.7553, 0.7594, 0.7659],\n",
       "          [0.6412, 0.6086, 0.5829,  ..., 0.7587, 0.7626, 0.7679],\n",
       "          [0.5961, 0.5767, 0.5698,  ..., 0.7620, 0.7647, 0.7647]],\n",
       "\n",
       "         [[0.1961, 0.1929, 0.1839,  ..., 0.1945, 0.2028, 0.2157],\n",
       "          [0.2573, 0.2197, 0.1738,  ..., 0.1858, 0.1969, 0.2125],\n",
       "          [0.3009, 0.2830, 0.2543,  ..., 0.1784, 0.1897, 0.2035],\n",
       "          ...,\n",
       "          [0.1452, 0.1479, 0.1469,  ..., 0.3670, 0.3712, 0.3776],\n",
       "          [0.2070, 0.1809, 0.1544,  ..., 0.3705, 0.3744, 0.3797],\n",
       "          [0.1490, 0.1361, 0.1306,  ..., 0.3737, 0.3765, 0.3765]]],\n",
       "\n",
       "\n",
       "        [[[0.5569, 0.5601, 0.5635,  ..., 0.6851, 0.6824, 0.6824],\n",
       "          [0.5601, 0.5633, 0.5645,  ..., 0.6948, 0.6920, 0.6920],\n",
       "          [0.5608, 0.5640, 0.5647,  ..., 0.7063, 0.7001, 0.7024],\n",
       "          ...,\n",
       "          [0.3711, 0.4132, 0.4295,  ..., 0.5421, 0.5300, 0.5287],\n",
       "          [0.3469, 0.4026, 0.4252,  ..., 0.5221, 0.5147, 0.5190],\n",
       "          [0.3373, 0.3824, 0.4004,  ..., 0.4972, 0.5158, 0.5255]],\n",
       "\n",
       "         [[0.5569, 0.5601, 0.5635,  ..., 0.7086, 0.7059, 0.7059],\n",
       "          [0.5601, 0.5633, 0.5645,  ..., 0.7183, 0.7155, 0.7155],\n",
       "          [0.5608, 0.5640, 0.5647,  ..., 0.7298, 0.7236, 0.7259],\n",
       "          ...,\n",
       "          [0.3687, 0.4096, 0.4201,  ..., 0.5264, 0.5454, 0.5486],\n",
       "          [0.3391, 0.3963, 0.4147,  ..., 0.5481, 0.5549, 0.5576],\n",
       "          [0.3294, 0.3681, 0.3847,  ..., 0.5387, 0.5608, 0.5608]],\n",
       "\n",
       "         [[0.5490, 0.5522, 0.5557,  ..., 0.7086, 0.7059, 0.7059],\n",
       "          [0.5522, 0.5555, 0.5567,  ..., 0.7183, 0.7155, 0.7155],\n",
       "          [0.5529, 0.5562, 0.5569,  ..., 0.7298, 0.7236, 0.7259],\n",
       "          ...,\n",
       "          [0.2624, 0.2917, 0.2950,  ..., 0.4337, 0.4299, 0.4395],\n",
       "          [0.2438, 0.2855, 0.2963,  ..., 0.4810, 0.4552, 0.4637],\n",
       "          [0.2471, 0.2728, 0.2757,  ..., 0.4851, 0.4831, 0.4863]]],\n",
       "\n",
       "\n",
       "        [[[0.0863, 0.0959, 0.1036,  ..., 0.3192, 0.3109, 0.2980],\n",
       "          [0.0831, 0.0927, 0.0981,  ..., 0.3202, 0.3141, 0.3013],\n",
       "          [0.0796, 0.0847, 0.0905,  ..., 0.3243, 0.3148, 0.3020],\n",
       "          ...,\n",
       "          [0.0455, 0.0220, 0.0050,  ..., 0.0846, 0.0796, 0.0745],\n",
       "          [0.0545, 0.0276, 0.0069,  ..., 0.0842, 0.0820, 0.0717],\n",
       "          [0.0706, 0.0384, 0.0121,  ..., 0.0745, 0.0717, 0.0588]],\n",
       "\n",
       "         [[0.0824, 0.0888, 0.1012,  ..., 0.2800, 0.2717, 0.2588],\n",
       "          [0.0791, 0.0882, 0.0967,  ..., 0.2810, 0.2749, 0.2620],\n",
       "          [0.0757, 0.0831, 0.0902,  ..., 0.2851, 0.2756, 0.2627],\n",
       "          ...,\n",
       "          [0.0533, 0.0298, 0.0101,  ..., 0.0925, 0.0880, 0.0851],\n",
       "          [0.0623, 0.0354, 0.0125,  ..., 0.0934, 0.0912, 0.0810],\n",
       "          [0.0784, 0.0462, 0.0199,  ..., 0.0902, 0.0874, 0.0745]],\n",
       "\n",
       "         [[0.0745, 0.0906, 0.1024,  ..., 0.2447, 0.2364, 0.2235],\n",
       "          [0.0713, 0.0821, 0.0905,  ..., 0.2457, 0.2396, 0.2268],\n",
       "          [0.0678, 0.0752, 0.0824,  ..., 0.2498, 0.2403, 0.2275],\n",
       "          ...,\n",
       "          [0.0415, 0.0180, 0.0038,  ..., 0.0752, 0.0693, 0.0600],\n",
       "          [0.0520, 0.0239, 0.0053,  ..., 0.0840, 0.0797, 0.0641],\n",
       "          [0.0745, 0.0358, 0.0082,  ..., 0.0918, 0.0835, 0.0706]]]])"
      ]
     },
     "execution_count": 29,
     "metadata": {},
     "output_type": "execute_result"
    }
   ],
   "source": [
    "next(iter(train_loader))[0].to(torch.device('cpu'))"
   ]
  },
  {
   "cell_type": "code",
   "execution_count": 22,
   "id": "3438331b",
   "metadata": {},
   "outputs": [],
   "source": [
    "train_loader = DataLoader(train_dataset, batch_size = 15, shuffle = True)\n",
    "valid_loader = DataLoader(valid_dataset, batch_size = 10, shuffle = True)\n",
    "test_loader = DataLoader(test_dataset, batch_size = 10, shuffle = True)\n"
   ]
  },
  {
   "cell_type": "code",
   "execution_count": 23,
   "id": "8c258477",
   "metadata": {},
   "outputs": [],
   "source": [
    "epochs = 15\n",
    "optimizer = torch.optim.Adam(model.parameters(), lr=0.005)\n",
    "loss_fn = nn.CrossEntropyLoss()"
   ]
  },
  {
   "cell_type": "code",
   "execution_count": 24,
   "id": "8d5740fc",
   "metadata": {},
   "outputs": [],
   "source": [
    "for g in optimizer.param_groups:\n",
    "    g['lr'] = 0.00005"
   ]
  },
  {
   "cell_type": "code",
   "execution_count": 25,
   "id": "d056d6f1",
   "metadata": {
    "scrolled": true
   },
   "outputs": [
    {
     "name": "stdout",
     "output_type": "stream",
     "text": [
      "--- 1 ---\n"
     ]
    },
    {
     "name": "stderr",
     "output_type": "stream",
     "text": [
      "C:\\Users\\saias\\anaconda3\\envs\\pytor\\lib\\site-packages\\torch\\nn\\functional.py:718: UserWarning: Named tensors and all their associated APIs are an experimental feature and subject to change. Please do not use them for anything important until they are released as stable. (Triggered internally at  ..\\c10/core/TensorImpl.h:1156.)\n",
      "  return torch.max_pool2d(input, kernel_size, stride, padding, dilation, ceil_mode)\n"
     ]
    },
    {
     "name": "stdout",
     "output_type": "stream",
     "text": [
      "1\n",
      "2\n",
      "3\n",
      "4\n",
      "5\n",
      "6\n",
      "7\n",
      "8\n",
      "9\n",
      "10\n",
      "11\n",
      "12\n",
      "13\n",
      "14\n",
      "15\n",
      "16\n",
      "17\n",
      "18\n",
      "19\n",
      "20\n",
      "21\n",
      "22\n",
      "23\n",
      "24\n",
      "25\n",
      "26\n",
      "27\n",
      "28\n",
      "29\n",
      "30\n",
      "31\n",
      "32\n",
      "33\n",
      "34\n",
      "35\n",
      "36\n",
      "37\n",
      "38\n",
      "39\n",
      "40\n",
      "41\n",
      "42\n",
      "43\n",
      "44\n",
      "45\n",
      "46\n",
      "47\n",
      "48\n",
      "49\n",
      "50\n",
      "51\n",
      "52\n",
      "53\n",
      "54\n",
      "55\n",
      "56\n",
      "57\n",
      "58\n",
      "59\n",
      "60\n",
      "61\n",
      "62\n",
      "63\n",
      "64\n",
      "65\n",
      "66\n",
      "67\n",
      "68\n",
      "69\n",
      "70\n",
      "71\n",
      "72\n",
      "73\n",
      "74\n",
      "75\n",
      "76\n",
      "77\n",
      "78\n",
      "79\n",
      "80\n",
      "Train loss: 0.5932554449886084, Valid loss: 0.8051910758018493\n",
      "Valid accuracy: 81.0\n"
     ]
    },
    {
     "ename": "KeyboardInterrupt",
     "evalue": "Interrupted by user",
     "output_type": "error",
     "traceback": [
      "\u001b[1;31m---------------------------------------------------------------------------\u001b[0m",
      "\u001b[1;31mKeyboardInterrupt\u001b[0m                         Traceback (most recent call last)",
      "\u001b[1;32m<ipython-input-25-316548aa1215>\u001b[0m in \u001b[0;36m<module>\u001b[1;34m\u001b[0m\n\u001b[0;32m     50\u001b[0m             \u001b[0mprint\u001b[0m\u001b[1;33m(\u001b[0m\u001b[1;34mf'Train loss: {train_loss/tot_train}, Valid loss: {valid_loss/valid_tot}'\u001b[0m\u001b[1;33m,\u001b[0m\u001b[1;34mf'Valid accuracy: {(valid_right/valid_tot)*100}'\u001b[0m\u001b[1;33m,\u001b[0m \u001b[0msep\u001b[0m \u001b[1;33m=\u001b[0m \u001b[1;34m'\\n'\u001b[0m\u001b[1;33m)\u001b[0m\u001b[1;33m\u001b[0m\u001b[1;33m\u001b[0m\u001b[0m\n\u001b[0;32m     51\u001b[0m             \u001b[0mmodel\u001b[0m\u001b[1;33m.\u001b[0m\u001b[0mtrain\u001b[0m\u001b[1;33m(\u001b[0m\u001b[1;33m)\u001b[0m\u001b[1;33m\u001b[0m\u001b[1;33m\u001b[0m\u001b[0m\n\u001b[1;32m---> 52\u001b[1;33m             \u001b[0mstop_here\u001b[0m \u001b[1;33m=\u001b[0m \u001b[0minput\u001b[0m\u001b[1;33m(\u001b[0m\u001b[1;33m)\u001b[0m\u001b[1;33m\u001b[0m\u001b[1;33m\u001b[0m\u001b[0m\n\u001b[0m",
      "\u001b[1;32m~\\anaconda3\\envs\\pytor\\lib\\site-packages\\ipykernel\\kernelbase.py\u001b[0m in \u001b[0;36mraw_input\u001b[1;34m(self, prompt)\u001b[0m\n\u001b[0;32m    846\u001b[0m                 \u001b[1;34m\"raw_input was called, but this frontend does not support input requests.\"\u001b[0m\u001b[1;33m\u001b[0m\u001b[1;33m\u001b[0m\u001b[0m\n\u001b[0;32m    847\u001b[0m             )\n\u001b[1;32m--> 848\u001b[1;33m         return self._input_request(str(prompt),\n\u001b[0m\u001b[0;32m    849\u001b[0m             \u001b[0mself\u001b[0m\u001b[1;33m.\u001b[0m\u001b[0m_parent_ident\u001b[0m\u001b[1;33m,\u001b[0m\u001b[1;33m\u001b[0m\u001b[1;33m\u001b[0m\u001b[0m\n\u001b[0;32m    850\u001b[0m             \u001b[0mself\u001b[0m\u001b[1;33m.\u001b[0m\u001b[0m_parent_header\u001b[0m\u001b[1;33m,\u001b[0m\u001b[1;33m\u001b[0m\u001b[1;33m\u001b[0m\u001b[0m\n",
      "\u001b[1;32m~\\anaconda3\\envs\\pytor\\lib\\site-packages\\ipykernel\\kernelbase.py\u001b[0m in \u001b[0;36m_input_request\u001b[1;34m(self, prompt, ident, parent, password)\u001b[0m\n\u001b[0;32m    890\u001b[0m             \u001b[1;32mexcept\u001b[0m \u001b[0mKeyboardInterrupt\u001b[0m\u001b[1;33m:\u001b[0m\u001b[1;33m\u001b[0m\u001b[1;33m\u001b[0m\u001b[0m\n\u001b[0;32m    891\u001b[0m                 \u001b[1;31m# re-raise KeyboardInterrupt, to truncate traceback\u001b[0m\u001b[1;33m\u001b[0m\u001b[1;33m\u001b[0m\u001b[1;33m\u001b[0m\u001b[0m\n\u001b[1;32m--> 892\u001b[1;33m                 \u001b[1;32mraise\u001b[0m \u001b[0mKeyboardInterrupt\u001b[0m\u001b[1;33m(\u001b[0m\u001b[1;34m\"Interrupted by user\"\u001b[0m\u001b[1;33m)\u001b[0m \u001b[1;32mfrom\u001b[0m \u001b[1;32mNone\u001b[0m\u001b[1;33m\u001b[0m\u001b[1;33m\u001b[0m\u001b[0m\n\u001b[0m\u001b[0;32m    893\u001b[0m             \u001b[1;32mexcept\u001b[0m \u001b[0mException\u001b[0m \u001b[1;32mas\u001b[0m \u001b[0me\u001b[0m\u001b[1;33m:\u001b[0m\u001b[1;33m\u001b[0m\u001b[1;33m\u001b[0m\u001b[0m\n\u001b[0;32m    894\u001b[0m                 \u001b[0mself\u001b[0m\u001b[1;33m.\u001b[0m\u001b[0mlog\u001b[0m\u001b[1;33m.\u001b[0m\u001b[0mwarning\u001b[0m\u001b[1;33m(\u001b[0m\u001b[1;34m\"Invalid Message:\"\u001b[0m\u001b[1;33m,\u001b[0m \u001b[0mexc_info\u001b[0m\u001b[1;33m=\u001b[0m\u001b[1;32mTrue\u001b[0m\u001b[1;33m)\u001b[0m\u001b[1;33m\u001b[0m\u001b[1;33m\u001b[0m\u001b[0m\n",
      "\u001b[1;31mKeyboardInterrupt\u001b[0m: Interrupted by user"
     ]
    }
   ],
   "source": [
    "#model.train()\n",
    "for e in range(epochs):\n",
    "    train_loss = 0.\n",
    "    valid_loss = 0.\n",
    "    train_right = 0\n",
    "    tot_train = 0\n",
    "    i = 0\n",
    "    print('---',e+1,'---')\n",
    "    train_loader = DataLoader(train_dataset, batch_size = 15, shuffle = True)\n",
    "    for x, y in train_loader:\n",
    "        x, y = x.to(torch.device('cuda:0')), y.to(torch.device('cuda:0'))\n",
    "        optimizer.zero_grad()\n",
    "        preds = nn.functional.log_softmax(model(x), dim=1)\n",
    "        train_right += (nn.functional.softmax(preds,dim = 1).argmax(1)==y).sum().item()\n",
    "        loss = loss_fn(preds, y)\n",
    "        loss.backward()\n",
    "        optimizer.step()\n",
    "        \n",
    "        train_loss += loss.item()*(y.shape[0])\n",
    "        tot_train += (y.shape[0])\n",
    "        \n",
    "        x.cpu()\n",
    "        y.cpu()\n",
    "        torch.cuda.empty_cache()\n",
    "        i += 1\n",
    "        #if i%40 == 0:\n",
    "        print(i)\n",
    "        if i%400 == 0:\n",
    "            #a = input()\n",
    "            print(f'Train loss: {train_loss/tot_train}',f'Train accuracy: {(train_right/tot_train)*100}', sep = '\\n')\n",
    "        if i%80 == 0:\n",
    "            valid_loss = 0\n",
    "            valid_right = 0\n",
    "            valid_tot = 0\n",
    "            model.eval()\n",
    "            v = 0\n",
    "            for x, y in valid_loader:\n",
    "                x, y = x.to(torch.device('cuda:0')), y.to(torch.device('cuda:0'))\n",
    "                preds = model(x)\n",
    "                loss = (loss_fn(preds, y))\n",
    "                valid_right += (nn.functional.softmax(preds,dim = 1).argmax(1)==y).sum().item()\n",
    "                valid_loss += loss.item()*(y.shape[0])\n",
    "                valid_tot += (y.shape[0])\n",
    "                v += 1\n",
    "                x.cpu()\n",
    "                y.cpu()\n",
    "                torch.cuda.empty_cache()\n",
    "                if v==20:\n",
    "                    break\n",
    "            print(f'Train loss: {train_loss/tot_train}, Valid loss: {valid_loss/valid_tot}',f'Valid accuracy: {(valid_right/valid_tot)*100}', sep = '\\n')\n",
    "            model.train()\n",
    "            stop_here = input()"
   ]
  },
  {
   "cell_type": "code",
   "execution_count": 26,
   "id": "0bd41e70",
   "metadata": {},
   "outputs": [],
   "source": [
    "tp = {}\n",
    "for i in range(275):\n",
    "    tp[i] = 0\n",
    "fp = {}\n",
    "for i in range(275):\n",
    "    fp[i] = 0"
   ]
  },
  {
   "cell_type": "code",
   "execution_count": 27,
   "id": "b10243e9",
   "metadata": {},
   "outputs": [
    {
     "data": {
      "text/plain": [
       "[1, 2]"
      ]
     },
     "execution_count": 27,
     "metadata": {},
     "output_type": "execute_result"
    }
   ],
   "source": [
    "a = torch.tensor([1,2])\n",
    "a.tolist()"
   ]
  },
  {
   "cell_type": "code",
   "execution_count": 28,
   "id": "4bfd948b",
   "metadata": {},
   "outputs": [
    {
     "name": "stdout",
     "output_type": "stream",
     "text": [
      "Train loss: 0.5932554449886084, Valid loss: 0.7256572518904101\n",
      "Valid accuracy: 81.45454545454545\n"
     ]
    }
   ],
   "source": [
    "valid_right = 0\n",
    "valid_loss = 0\n",
    "valid_tot = 0\n",
    "model.eval()\n",
    "for x, y in valid_loader:\n",
    "    x, y = x.to(torch.device('cuda:0')), y.to(torch.device('cuda:0'))\n",
    "    preds = model(x)\n",
    "    pos = nn.functional.softmax(preds,dim = 1).argmax(1)\n",
    "    valid_right += (pos==y).sum().item()\n",
    "    valid_loss += (loss_fn(preds, y)).item()*(y.shape[0])\n",
    "    valid_tot += (y.shape[0])\n",
    "    #v += 1\n",
    "    x.cpu()\n",
    "    y.cpu()\n",
    "    pos.cpu()\n",
    "    pos = pos.tolist()\n",
    "    y1 = y.tolist()\n",
    "    for k,k1 in zip(pos, y1):\n",
    "        if k==k1 :\n",
    "            tp[k] += 1\n",
    "        else:\n",
    "            fp[k] += 1\n",
    "    torch.cuda.empty_cache()\n",
    "print(f'Train loss: {train_loss/tot_train}, Valid loss: {valid_loss/valid_tot}',f'Valid accuracy: {(valid_right/valid_tot)*100}', sep = '\\n')"
   ]
  },
  {
   "cell_type": "markdown",
   "id": "8094dda4",
   "metadata": {},
   "source": [
    "#### Accuracy of 81% is achieved. "
   ]
  },
  {
   "cell_type": "code",
   "execution_count": 29,
   "id": "9cf4fc52",
   "metadata": {},
   "outputs": [
    {
     "name": "stdout",
     "output_type": "stream",
     "text": [
      "TP: 4, FP: 0\n",
      "TP: 3, FP: 0\n",
      "TP: 3, FP: 2\n",
      "TP: 4, FP: 0\n",
      "TP: 4, FP: 3\n",
      "TP: 4, FP: 0\n",
      "TP: 4, FP: 0\n",
      "TP: 4, FP: 0\n",
      "TP: 5, FP: 1\n",
      "TP: 2, FP: 2\n",
      "TP: 2, FP: 0\n",
      "TP: 4, FP: 1\n",
      "TP: 5, FP: 2\n",
      "TP: 3, FP: 1\n",
      "TP: 5, FP: 1\n",
      "TP: 5, FP: 0\n",
      "TP: 3, FP: 2\n",
      "TP: 5, FP: 0\n",
      "TP: 4, FP: 1\n",
      "TP: 5, FP: 0\n",
      "TP: 5, FP: 0\n",
      "TP: 5, FP: 2\n",
      "TP: 5, FP: 0\n",
      "TP: 5, FP: 1\n",
      "TP: 4, FP: 1\n",
      "TP: 5, FP: 0\n",
      "TP: 2, FP: 1\n",
      "TP: 5, FP: 1\n",
      "TP: 3, FP: 0\n",
      "TP: 3, FP: 2\n",
      "TP: 5, FP: 0\n",
      "TP: 4, FP: 1\n",
      "TP: 4, FP: 1\n",
      "TP: 5, FP: 1\n",
      "TP: 5, FP: 1\n",
      "TP: 5, FP: 1\n",
      "TP: 4, FP: 0\n",
      "TP: 4, FP: 5\n",
      "TP: 5, FP: 2\n",
      "TP: 5, FP: 0\n",
      "TP: 4, FP: 0\n",
      "TP: 4, FP: 0\n",
      "TP: 3, FP: 1\n",
      "TP: 3, FP: 0\n",
      "TP: 3, FP: 1\n",
      "TP: 4, FP: 0\n",
      "TP: 3, FP: 0\n",
      "TP: 4, FP: 0\n",
      "TP: 5, FP: 2\n",
      "TP: 5, FP: 0\n",
      "TP: 4, FP: 2\n",
      "TP: 1, FP: 2\n",
      "TP: 4, FP: 1\n",
      "TP: 5, FP: 2\n",
      "TP: 5, FP: 2\n",
      "TP: 4, FP: 1\n",
      "TP: 5, FP: 2\n",
      "TP: 4, FP: 0\n",
      "TP: 5, FP: 0\n",
      "TP: 5, FP: 0\n",
      "TP: 5, FP: 0\n",
      "TP: 3, FP: 1\n",
      "TP: 5, FP: 2\n",
      "TP: 5, FP: 0\n",
      "TP: 3, FP: 1\n",
      "TP: 5, FP: 2\n",
      "TP: 5, FP: 0\n",
      "TP: 3, FP: 0\n",
      "TP: 5, FP: 1\n",
      "TP: 4, FP: 1\n",
      "TP: 3, FP: 0\n",
      "TP: 5, FP: 1\n",
      "TP: 5, FP: 0\n",
      "TP: 5, FP: 0\n",
      "TP: 5, FP: 3\n",
      "TP: 4, FP: 0\n",
      "TP: 5, FP: 0\n",
      "TP: 4, FP: 2\n",
      "TP: 3, FP: 0\n",
      "TP: 3, FP: 0\n",
      "TP: 5, FP: 0\n",
      "TP: 5, FP: 0\n",
      "TP: 3, FP: 1\n",
      "TP: 4, FP: 2\n",
      "TP: 5, FP: 0\n",
      "TP: 4, FP: 1\n",
      "TP: 4, FP: 0\n",
      "TP: 5, FP: 0\n",
      "TP: 5, FP: 0\n",
      "TP: 4, FP: 1\n",
      "TP: 5, FP: 2\n",
      "TP: 3, FP: 0\n",
      "TP: 5, FP: 0\n",
      "TP: 2, FP: 1\n",
      "TP: 5, FP: 0\n",
      "TP: 5, FP: 0\n",
      "TP: 4, FP: 1\n",
      "TP: 5, FP: 1\n",
      "TP: 5, FP: 0\n",
      "TP: 4, FP: 2\n",
      "TP: 5, FP: 1\n",
      "TP: 4, FP: 0\n",
      "TP: 4, FP: 4\n",
      "TP: 4, FP: 0\n",
      "TP: 4, FP: 0\n",
      "TP: 3, FP: 0\n",
      "TP: 5, FP: 1\n",
      "TP: 4, FP: 3\n",
      "TP: 2, FP: 2\n",
      "TP: 5, FP: 0\n",
      "TP: 5, FP: 1\n",
      "TP: 4, FP: 2\n",
      "TP: 5, FP: 2\n",
      "TP: 4, FP: 0\n",
      "TP: 3, FP: 0\n",
      "TP: 5, FP: 2\n",
      "TP: 4, FP: 0\n",
      "TP: 2, FP: 0\n",
      "TP: 3, FP: 3\n",
      "TP: 5, FP: 1\n",
      "TP: 5, FP: 0\n",
      "TP: 5, FP: 2\n",
      "TP: 5, FP: 1\n",
      "TP: 5, FP: 1\n",
      "TP: 3, FP: 3\n",
      "TP: 2, FP: 2\n",
      "TP: 4, FP: 2\n",
      "TP: 4, FP: 0\n",
      "TP: 2, FP: 1\n",
      "TP: 4, FP: 0\n",
      "TP: 5, FP: 0\n",
      "TP: 3, FP: 0\n",
      "TP: 4, FP: 1\n",
      "TP: 1, FP: 0\n",
      "TP: 5, FP: 1\n",
      "TP: 2, FP: 4\n",
      "TP: 4, FP: 2\n",
      "TP: 0, FP: 0\n",
      "TP: 4, FP: 1\n",
      "TP: 5, FP: 0\n",
      "TP: 5, FP: 0\n",
      "TP: 4, FP: 1\n",
      "TP: 4, FP: 0\n",
      "TP: 5, FP: 0\n",
      "TP: 3, FP: 0\n",
      "TP: 5, FP: 0\n",
      "TP: 3, FP: 1\n",
      "TP: 5, FP: 2\n",
      "TP: 4, FP: 1\n",
      "TP: 2, FP: 1\n",
      "TP: 5, FP: 1\n",
      "TP: 5, FP: 2\n",
      "TP: 4, FP: 0\n",
      "TP: 4, FP: 0\n",
      "TP: 1, FP: 0\n",
      "TP: 5, FP: 2\n",
      "TP: 4, FP: 1\n",
      "TP: 3, FP: 0\n",
      "TP: 5, FP: 0\n",
      "TP: 2, FP: 1\n",
      "TP: 2, FP: 1\n",
      "TP: 3, FP: 0\n",
      "TP: 3, FP: 2\n",
      "TP: 4, FP: 6\n",
      "TP: 4, FP: 0\n",
      "TP: 3, FP: 1\n",
      "TP: 3, FP: 1\n",
      "TP: 2, FP: 2\n",
      "TP: 3, FP: 0\n",
      "TP: 5, FP: 3\n",
      "TP: 1, FP: 2\n",
      "TP: 1, FP: 5\n",
      "TP: 5, FP: 1\n",
      "TP: 3, FP: 0\n",
      "TP: 5, FP: 1\n",
      "TP: 5, FP: 0\n",
      "TP: 3, FP: 0\n",
      "TP: 3, FP: 1\n",
      "TP: 4, FP: 0\n",
      "TP: 3, FP: 0\n",
      "TP: 5, FP: 1\n",
      "TP: 5, FP: 0\n",
      "TP: 5, FP: 0\n",
      "TP: 5, FP: 2\n",
      "TP: 4, FP: 0\n",
      "TP: 5, FP: 0\n",
      "TP: 4, FP: 3\n",
      "TP: 5, FP: 1\n",
      "TP: 5, FP: 0\n",
      "TP: 2, FP: 1\n",
      "TP: 4, FP: 1\n",
      "TP: 4, FP: 4\n",
      "TP: 4, FP: 0\n",
      "TP: 5, FP: 0\n",
      "TP: 2, FP: 4\n",
      "TP: 4, FP: 0\n",
      "TP: 5, FP: 0\n",
      "TP: 3, FP: 0\n",
      "TP: 3, FP: 1\n",
      "TP: 5, FP: 1\n",
      "TP: 5, FP: 0\n",
      "TP: 5, FP: 3\n",
      "TP: 4, FP: 0\n",
      "TP: 5, FP: 1\n",
      "TP: 5, FP: 1\n",
      "TP: 4, FP: 1\n",
      "TP: 5, FP: 0\n",
      "TP: 5, FP: 0\n",
      "TP: 4, FP: 1\n",
      "TP: 5, FP: 2\n",
      "TP: 5, FP: 1\n",
      "TP: 3, FP: 0\n",
      "TP: 5, FP: 0\n",
      "TP: 5, FP: 0\n",
      "TP: 4, FP: 1\n",
      "TP: 4, FP: 2\n",
      "TP: 5, FP: 2\n",
      "TP: 4, FP: 1\n",
      "TP: 5, FP: 1\n",
      "TP: 2, FP: 3\n",
      "TP: 5, FP: 0\n",
      "TP: 4, FP: 2\n",
      "TP: 5, FP: 0\n",
      "TP: 5, FP: 1\n",
      "TP: 4, FP: 2\n",
      "TP: 4, FP: 2\n",
      "TP: 5, FP: 1\n",
      "TP: 5, FP: 0\n",
      "TP: 3, FP: 2\n",
      "TP: 2, FP: 2\n",
      "TP: 4, FP: 2\n",
      "TP: 2, FP: 4\n",
      "TP: 5, FP: 5\n",
      "TP: 5, FP: 1\n",
      "TP: 4, FP: 1\n",
      "TP: 5, FP: 1\n",
      "TP: 5, FP: 2\n",
      "TP: 3, FP: 1\n",
      "TP: 5, FP: 2\n",
      "TP: 4, FP: 0\n",
      "TP: 4, FP: 0\n",
      "TP: 5, FP: 2\n",
      "TP: 4, FP: 0\n",
      "TP: 4, FP: 0\n",
      "TP: 3, FP: 0\n",
      "TP: 5, FP: 1\n",
      "TP: 5, FP: 1\n",
      "TP: 5, FP: 0\n",
      "TP: 5, FP: 0\n",
      "TP: 3, FP: 0\n",
      "TP: 5, FP: 0\n",
      "TP: 4, FP: 0\n",
      "TP: 5, FP: 2\n",
      "TP: 5, FP: 4\n",
      "TP: 4, FP: 6\n",
      "TP: 5, FP: 1\n",
      "TP: 5, FP: 0\n",
      "TP: 5, FP: 0\n",
      "TP: 4, FP: 0\n",
      "TP: 5, FP: 0\n",
      "TP: 4, FP: 1\n",
      "TP: 5, FP: 0\n",
      "TP: 4, FP: 2\n",
      "TP: 4, FP: 2\n",
      "TP: 4, FP: 0\n",
      "TP: 4, FP: 0\n",
      "TP: 1, FP: 0\n",
      "TP: 4, FP: 1\n",
      "TP: 4, FP: 0\n",
      "TP: 3, FP: 1\n",
      "TP: 5, FP: 0\n",
      "TP: 4, FP: 0\n",
      "TP: 5, FP: 1\n",
      "TP: 5, FP: 0\n",
      "TP: 4, FP: 0\n"
     ]
    }
   ],
   "source": [
    "for i in range(275):\n",
    "    print(f'TP: {tp[i]}, FP: {fp[i]}')"
   ]
  }
 ],
 "metadata": {
  "kernelspec": {
   "display_name": "Python 3",
   "language": "python",
   "name": "python3"
  },
  "language_info": {
   "codemirror_mode": {
    "name": "ipython",
    "version": 3
   },
   "file_extension": ".py",
   "mimetype": "text/x-python",
   "name": "python",
   "nbconvert_exporter": "python",
   "pygments_lexer": "ipython3",
   "version": "3.8.10"
  }
 },
 "nbformat": 4,
 "nbformat_minor": 5
}
