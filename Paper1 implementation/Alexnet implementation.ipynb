{
 "cells": [
  {
   "cell_type": "code",
   "execution_count": 1,
   "id": "643cb23b",
   "metadata": {},
   "outputs": [],
   "source": [
    "import numpy as np\n",
    "import torch\n",
    "import torchvision.transforms as transforms\n",
    "from torchvision import datasets\n",
    "from torch.utils.data.sampler import SubsetRandomSampler"
   ]
  },
  {
   "cell_type": "code",
   "execution_count": 12,
   "id": "b73a46e8",
   "metadata": {},
   "outputs": [
    {
     "name": "stdout",
     "output_type": "stream",
     "text": [
      "Files already downloaded and verified\n",
      "Files already downloaded and verified\n"
     ]
    }
   ],
   "source": [
    "batch_s = 20\n",
    "valid_s = 0.2\n",
    "\n",
    "transform = transforms.Compose([\n",
    "    transforms.Resize((227,227)),\n",
    "    transforms.ToTensor(),\n",
    "    transforms.Normalize((0.5, 0.5, 0.5), (0.5, 0.5, 0.5))\n",
    "    ])\n",
    "\n",
    "train_data = datasets.CIFAR10('data', train = True, download = True, transform = transform)\n",
    "test_data = datasets.CIFAR10('data', train = False, download = True, transform = transform)"
   ]
  },
  {
   "cell_type": "code",
   "execution_count": 13,
   "id": "023a593a",
   "metadata": {},
   "outputs": [
    {
     "data": {
      "text/plain": [
       "50000"
      ]
     },
     "execution_count": 13,
     "metadata": {},
     "output_type": "execute_result"
    }
   ],
   "source": [
    "num_train = len(train_data)\n",
    "num_train"
   ]
  },
  {
   "cell_type": "code",
   "execution_count": 14,
   "id": "31b6d6dd",
   "metadata": {},
   "outputs": [
    {
     "data": {
      "text/plain": [
       "<torch.utils.data.sampler.SubsetRandomSampler at 0x2276b90b730>"
      ]
     },
     "execution_count": 14,
     "metadata": {},
     "output_type": "execute_result"
    }
   ],
   "source": [
    "indices = list(range(num_train))\n",
    "np.random.shuffle(indices)\n",
    "split = int(np.floor(valid_s * num_train))\n",
    "train_idx, valid_idx = indices[split:], indices[:split]\n",
    "\n",
    "train_sampler = SubsetRandomSampler(train_idx)\n",
    "valid_sampler = SubsetRandomSampler(valid_idx)\n",
    "\n",
    "train_sampler"
   ]
  },
  {
   "cell_type": "code",
   "execution_count": 15,
   "id": "02a7ca22",
   "metadata": {},
   "outputs": [],
   "source": [
    "train_loader = torch.utils.data.DataLoader(train_data, batch_size = batch_s,\n",
    "                sampler = train_sampler)\n",
    "valid_loader = torch.utils.data.DataLoader(train_data, batch_size = batch_s,\n",
    "                sampler = valid_sampler)\n",
    "test_loader = torch.utils.data.DataLoader(test_data, batch_size = batch_s)\n",
    "\n",
    "classes = ['airplane', 'automobile', 'bird', 'cat', 'deer', 'dog', 'frog', 'horse', 'ship', 'truck']\n"
   ]
  },
  {
   "cell_type": "code",
   "execution_count": 16,
   "id": "a4189372",
   "metadata": {},
   "outputs": [
    {
     "data": {
      "text/plain": [
       "torch.Size([3, 227, 227])"
      ]
     },
     "execution_count": 16,
     "metadata": {},
     "output_type": "execute_result"
    }
   ],
   "source": [
    "train_data[0][0].shape"
   ]
  },
  {
   "cell_type": "code",
   "execution_count": 57,
   "id": "8b651f5a",
   "metadata": {
    "scrolled": false
   },
   "outputs": [
    {
     "name": "stdout",
     "output_type": "stream",
     "text": [
      "Net(\n",
      "  (conv1): Conv2d(3, 96, kernel_size=(11, 11), stride=(4, 4))\n",
      "  (conv2): Conv2d(96, 256, kernel_size=(5, 5), stride=(1, 1), padding=(2, 2), groups=2)\n",
      "  (conv3): Conv2d(256, 384, kernel_size=(3, 3), stride=(1, 1), padding=(1, 1))\n",
      "  (conv4): Conv2d(384, 384, kernel_size=(3, 3), stride=(1, 1), padding=(1, 1), groups=2)\n",
      "  (conv5): Conv2d(384, 256, kernel_size=(3, 3), stride=(1, 1), padding=(1, 1), groups=2)\n",
      "  (pool): MaxPool2d(kernel_size=3, stride=2, padding=0, dilation=1, ceil_mode=False)\n",
      "  (drop1): Dropout2d(p=0.5, inplace=False)\n",
      "  (fc1): Linear(in_features=9216, out_features=2000, bias=True)\n",
      "  (drop2): Dropout(p=0.5, inplace=False)\n",
      "  (fc2): Linear(in_features=2000, out_features=750, bias=True)\n",
      "  (fc3): Linear(in_features=750, out_features=10, bias=True)\n",
      ")\n"
     ]
    },
    {
     "data": {
      "text/plain": [
       "tensor([[-0.0324, -0.0114,  0.0289, -0.0265,  0.0292,  0.0297,  0.0335, -0.0147,\n",
       "          0.0045, -0.0189]], device='cuda:0', grad_fn=<AddmmBackward>)"
      ]
     },
     "execution_count": 57,
     "metadata": {},
     "output_type": "execute_result"
    }
   ],
   "source": [
    "import torch.nn as nn\n",
    "import torch.nn.functional as F\n",
    "\n",
    "class Net(nn.Module) :\n",
    "    def __init__(self):\n",
    "        super().__init__()\n",
    "        self.conv1 = nn.Conv2d(3, 96, kernel_size=11, stride=4, padding=0)\n",
    "        self.conv2 = nn.Conv2d(96, 256, kernel_size=5, stride=1, padding=2, groups=2)\n",
    "        self.conv3 = nn.Conv2d(256, 384, kernel_size=3, stride=1, padding=1)\n",
    "        self.conv4 = nn.Conv2d(384, 384, kernel_size=3, stride=1, padding=1, groups=2)\n",
    "        self.conv5 = nn.Conv2d(384, 256, kernel_size=3, stride=1, padding=1, groups=2)\n",
    "        self.pool = nn.MaxPool2d(kernel_size=3, stride=2)\n",
    "        self.drop1 = nn.Dropout2d(0.5)\n",
    "        self.fc1 = nn.Linear(256*6*6, 2000)\n",
    "        self.drop2 = nn.Dropout(0.5)\n",
    "        self.fc2 = nn.Linear(2000, 750)\n",
    "        self.fc3 = nn.Linear(750, 10)\n",
    "    def forward(self, x):\n",
    "        x = self.pool(F.relu(self.conv1(x)))\n",
    "        x = self.pool(F.relu(self.conv2(x)))\n",
    "        x = F.relu(self.conv3(x))\n",
    "        x = F.relu(self.conv4(x))\n",
    "        x = self.drop1(self.pool(F.relu(self.conv5(x))))\n",
    "        x = self.drop2(F.relu(self.fc1(torch.flatten(x, start_dim = 1))))\n",
    "        x = F.relu(self.fc2(x))\n",
    "        x = self.fc3(x)\n",
    "        return x\n",
    "\n",
    "\n",
    "model = Net()\n",
    "model.cuda()\n",
    "\n",
    "print(model)\n",
    "model(train_data[0][0].reshape(1,3,227,227).cuda())"
   ]
  },
  {
   "cell_type": "code",
   "execution_count": 58,
   "id": "3dc3d149",
   "metadata": {},
   "outputs": [],
   "source": [
    "loss_f = nn.CrossEntropyLoss()\n",
    "optimizer = torch.optim.SGD(model.parameters(), lr = 0.01)"
   ]
  },
  {
   "cell_type": "code",
   "execution_count": 59,
   "id": "ede60a97",
   "metadata": {},
   "outputs": [
    {
     "data": {
      "text/plain": [
       "(torch.Size([20, 3, 227, 227]),\n",
       " torch.Size([20, 10]),\n",
       " torch.Size([20]),\n",
       " tensor(2.3034, device='cuda:0', grad_fn=<NllLossBackward>))"
      ]
     },
     "execution_count": 59,
     "metadata": {},
     "output_type": "execute_result"
    }
   ],
   "source": [
    "dataiter = next(iter(train_loader))\n",
    "dataiter[0], dataiter[1] = dataiter[0].cuda(), dataiter[1].cuda()\n",
    "pred = model(dataiter[0])\n",
    "loss = loss_f(pred, dataiter[1]) \n",
    "loss.backward()\n",
    "dataiter[0].shape, pred.shape, dataiter[1].shape, loss"
   ]
  },
  {
   "cell_type": "code",
   "execution_count": 61,
   "id": "4f3ae462",
   "metadata": {},
   "outputs": [
    {
     "name": "stdout",
     "output_type": "stream",
     "text": [
      "Epoch 1 : TrainLoss = 1.8410667520523072, ValidLoss = 0.4584487931251526\n",
      "Better model! inf ==> 0.4584487931251526\n",
      "Epoch 2 : TrainLoss = 1.60603965382576, ValidLoss = 0.3507590305805206\n",
      "Better model! 0.4584487931251526 ==> 0.3507590305805206\n",
      "Epoch 3 : TrainLoss = 1.3032896768569946, ValidLoss = 0.2937166684389114\n",
      "Better model! 0.3507590305805206 ==> 0.2937166684389114\n",
      "Epoch 4 : TrainLoss = 1.1578171651363374, ValidLoss = 0.2660969559669495\n",
      "Better model! 0.2937166684389114 ==> 0.2660969559669495\n",
      "Epoch 5 : TrainLoss = 1.0543515243053436, ValidLoss = 0.25223487298488617\n",
      "Better model! 0.2660969559669495 ==> 0.25223487298488617\n",
      "Epoch 6 : TrainLoss = 0.9540956894397735, ValidLoss = 0.2099670972585678\n",
      "Better model! 0.25223487298488617 ==> 0.2099670972585678\n",
      "Epoch 7 : TrainLoss = 0.8586887283086777, ValidLoss = 0.2286564083814621\n",
      "Epoch 8 : TrainLoss = 0.771607297706604, ValidLoss = 0.18397453236579894\n",
      "Better model! 0.2099670972585678 ==> 0.18397453236579894\n",
      "Epoch 9 : TrainLoss = 0.7032606570482254, ValidLoss = 0.17914309269189835\n",
      "Better model! 0.18397453236579894 ==> 0.17914309269189835\n",
      "Epoch 10 : TrainLoss = 0.6463756450414657, ValidLoss = 0.14812307056188584\n",
      "Better model! 0.17914309269189835 ==> 0.14812307056188584\n"
     ]
    }
   ],
   "source": [
    "epocs = 8\n",
    "valid_loss_min = np.inf\n",
    "\n",
    "for epoch in range(epocs):\n",
    "    train_loss = 0.\n",
    "    valid_loss = 0.\n",
    "    \n",
    "    ## train ##\n",
    "    model.train()\n",
    "    for data, target in train_loader :\n",
    "        data, target = data.cuda(), target.cuda()\n",
    "        \n",
    "        optimizer.zero_grad()          #making grads zero\n",
    "        preds = model(data)           #predicting class\n",
    "        loss = loss_f(preds, target)   #calculating loss\n",
    "        loss.backward()               #back propagation\n",
    "        optimizer.step()              #adding gradients to params\n",
    "        train_loss += loss.item() * data.size(0)\n",
    "    \n",
    "    ##validate##\n",
    "    model.eval()\n",
    "    for data, target in valid_loader :\n",
    "        data, target = data.cuda(), target.cuda()\n",
    "        \n",
    "        preds = model(data)\n",
    "        valid_loss += loss_f(preds, target).item() * data.size(0)\n",
    "    \n",
    "    ##avg loss##\n",
    "    train_loss /= len(train_loader.dataset)\n",
    "    valid_loss /= len(valid_loader.dataset)\n",
    "    \n",
    "    print(f'Epoch {epoch+1} : TrainLoss = {train_loss}, ValidLoss = {valid_loss}')\n",
    "    \n",
    "    if valid_loss < valid_loss_min :\n",
    "        print(f'Better model! {valid_loss_min} ==> {valid_loss}')\n",
    "        valid_loss_min = valid_loss\n",
    "        torch.save(model.state_dict(), 'model_alexcifar.pt')"
   ]
  },
  {
   "cell_type": "code",
   "execution_count": null,
   "id": "f92ea74c",
   "metadata": {},
   "outputs": [],
   "source": [
    "test_loss = 0.0\n",
    "class_correct = [0. for i in range(10)]\n",
    "class_total = [0. for i in range(10)]\n",
    "\n",
    "model.eval()\n",
    "\n",
    "for data, target in test"
   ]
  }
 ],
 "metadata": {
  "kernelspec": {
   "display_name": "Python 3",
   "language": "python",
   "name": "python3"
  },
  "language_info": {
   "codemirror_mode": {
    "name": "ipython",
    "version": 3
   },
   "file_extension": ".py",
   "mimetype": "text/x-python",
   "name": "python",
   "nbconvert_exporter": "python",
   "pygments_lexer": "ipython3",
   "version": "3.8.10"
  }
 },
 "nbformat": 4,
 "nbformat_minor": 5
}
